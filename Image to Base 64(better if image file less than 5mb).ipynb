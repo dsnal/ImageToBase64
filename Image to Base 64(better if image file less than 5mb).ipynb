{
 "cells": [
  {
   "cell_type": "code",
   "execution_count": null,
   "id": "political-being",
   "metadata": {},
   "outputs": [],
   "source": [
    "import base64"
   ]
  },
  {
   "cell_type": "markdown",
   "id": "powerful-significance",
   "metadata": {},
   "source": [
    "# Encoding the image file"
   ]
  },
  {
   "cell_type": "code",
   "execution_count": null,
   "id": "banned-planning",
   "metadata": {},
   "outputs": [],
   "source": [
    "#Open the image file and encode it into Base64\n",
    "\n",
    "with open(\"Circle.png\", \"rb\") as img_file:  #<--- Choose your image path, no need to change if image and notebook is in same folder\n",
    "    my_string = base64.b64encode(img_file.read())\n",
    "#print(my_string)"
   ]
  },
  {
   "cell_type": "code",
   "execution_count": null,
   "id": "deadly-internship",
   "metadata": {},
   "outputs": [],
   "source": [
    "result=my_string.decode('utf-8') \n",
    "#above line remove b from the beginning \n",
    "#to send encoded data to someone it is better to remove b(byte) from the text"
   ]
  },
  {
   "cell_type": "code",
   "execution_count": null,
   "id": "signed-banner",
   "metadata": {},
   "outputs": [],
   "source": [
    "# Output- the encoded numbers into text file\n",
    "with open('circle.txt',mode ='w') as file:      \n",
    "                 file.write(result) \n",
    "                 #print(result)\n"
   ]
  },
  {
   "cell_type": "markdown",
   "id": "surprising-skiing",
   "metadata": {},
   "source": [
    "# Decoding the image files"
   ]
  },
  {
   "cell_type": "code",
   "execution_count": null,
   "id": "organized-israeli",
   "metadata": {},
   "outputs": [],
   "source": [
    "#Choose your text files to decode\n",
    "\n",
    "with open('circle.txt', 'r') as file:    #<--- Choose your encoded image TEXT path, no need to change if text file and notebook is in same folder\n",
    "    data = file.read()\n",
    "image_data = bytes(data,'utf-8')"
   ]
  },
  {
   "cell_type": "code",
   "execution_count": null,
   "id": "identical-wayne",
   "metadata": {},
   "outputs": [],
   "source": [
    "#Decod the image file, just run this. No need to do anything. It will save as ImageToSave.png\n",
    "\n",
    "with open(\"imageToSave.png\", \"wb\") as fh:\n",
    "    fh.write(base64.decodebytes(image_data))"
   ]
  },
  {
   "cell_type": "code",
   "execution_count": null,
   "id": "revolutionary-reunion",
   "metadata": {},
   "outputs": [],
   "source": [
    "# jupyter notebook --NotebookApp.iopub_data_rate_limit=1.0e10\n",
    "# if IOPub data rate exceeded in Jupyter notebook (when viewing image) \n",
    "# if Image file is large, IOPub data will exceed, try to run the top command on Venv terminal"
   ]
  },
  {
   "cell_type": "markdown",
   "id": "homeless-contrast",
   "metadata": {},
   "source": [
    "# Split Text  into SMS limit(150)"
   ]
  },
  {
   "cell_type": "code",
   "execution_count": null,
   "id": "composed-dover",
   "metadata": {},
   "outputs": [],
   "source": [
    "with open('cirlce.txt', 'r') as file: #<--- Choose your encoded image TEXT path\n",
    "    data = file.read()"
   ]
  },
  {
   "cell_type": "code",
   "execution_count": null,
   "id": "sudden-dealing",
   "metadata": {},
   "outputs": [],
   "source": [
    "def chunks(s, n):\n",
    "    for start in range(0, len(s), n):\n",
    "        yield s[start:start+n]"
   ]
  },
  {
   "cell_type": "code",
   "execution_count": null,
   "id": "appreciated-belize",
   "metadata": {},
   "outputs": [],
   "source": [
    "#This will split Long Encoded text into sub text files by 150 characters. \n",
    "\n",
    "small = 1\n",
    "for chunk in chunks(data, 150):# <-- \n",
    "    g =str(small)+'sub.txt'\n",
    "    with open(g,mode ='w') as file:      \n",
    "                 file.write(chunk) \n",
    "    small = small+1\n",
    "    #print (chunk)"
   ]
  },
  {
   "cell_type": "code",
   "execution_count": null,
   "id": "attractive-compilation",
   "metadata": {},
   "outputs": [],
   "source": []
  }
 ],
 "metadata": {
  "kernelspec": {
   "display_name": "Python 3",
   "language": "python",
   "name": "python3"
  },
  "language_info": {
   "codemirror_mode": {
    "name": "ipython",
    "version": 3
   },
   "file_extension": ".py",
   "mimetype": "text/x-python",
   "name": "python",
   "nbconvert_exporter": "python",
   "pygments_lexer": "ipython3",
   "version": "3.7.9"
  }
 },
 "nbformat": 4,
 "nbformat_minor": 5
}
