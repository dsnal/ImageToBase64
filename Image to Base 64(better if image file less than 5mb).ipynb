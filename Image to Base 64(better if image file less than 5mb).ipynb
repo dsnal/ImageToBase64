{
 "cells": [
  {
   "cell_type": "code",
   "execution_count": 43,
   "id": "political-being",
   "metadata": {},
   "outputs": [],
   "source": [
    "import base64"
   ]
  },
  {
   "cell_type": "markdown",
   "id": "sharing-outside",
   "metadata": {},
   "source": [
    "# Encoding the image file"
   ]
  },
  {
   "cell_type": "code",
   "execution_count": 64,
   "id": "banned-planning",
   "metadata": {},
   "outputs": [],
   "source": [
    "#Open the image file and encode it into Base64\n",
    "\n",
    "with open(\"Circle.png\", \"rb\") as img_file:  #<--- Choose your image path, no need to change if image and notebook is in same folder\n",
    "    my_string = base64.b64encode(img_file.read())\n",
    "#print(my_string)"
   ]
  },
  {
   "cell_type": "code",
   "execution_count": 52,
   "id": "deadly-internship",
   "metadata": {},
   "outputs": [],
   "source": [
    "result=my_string.decode('utf-8') \n",
    "#remove b from the beginning \n",
    "#to send encoded data to someone it is better to remove b(byte) from the text"
   ]
  },
  {
   "cell_type": "code",
   "execution_count": 56,
   "id": "signed-banner",
   "metadata": {},
   "outputs": [],
   "source": [
    "# Output- the encoded numbers into text file\n",
    "with open('circle.txt',mode ='w') as file:      \n",
    "                 file.write(result) \n",
    "                 #print(result)\n"
   ]
  },
  {
   "cell_type": "markdown",
   "id": "instrumental-profile",
   "metadata": {},
   "source": [
    "# Decoding the image files"
   ]
  },
  {
   "cell_type": "code",
   "execution_count": 57,
   "id": "organized-israeli",
   "metadata": {},
   "outputs": [],
   "source": [
    "#Choose your text files to decode\n",
    "\n",
    "with open('circle.txt', 'r') as file:    #<--- Choose your encoded image TEXT path, no need to change if text file and notebook is in same folder\n",
    "    data = file.read()\n",
    "image_data = bytes(data,'utf-8')\n",
    "#img_data=b'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'"
   ]
  },
  {
   "cell_type": "code",
   "execution_count": 59,
   "id": "identical-wayne",
   "metadata": {},
   "outputs": [],
   "source": [
    "#Decod the image file, just run this. No need to do anything. It will save as ImageToSave.png\n",
    "\n",
    "with open(\"imageToSave.png\", \"wb\") as fh:\n",
    "    fh.write(base64.decodebytes(image_data))"
   ]
  },
  {
   "cell_type": "code",
   "execution_count": 65,
   "id": "revolutionary-reunion",
   "metadata": {},
   "outputs": [],
   "source": [
    "# jupyter notebook --NotebookApp.iopub_data_rate_limit=1.0e10\n",
    "# if IOPub data rate exceeded in Jupyter notebook (when viewing image) \n",
    "# if Image file is large, IOPub data will exceed, try to run the top command on Venv terminal"
   ]
  },
  {
   "cell_type": "markdown",
   "id": "solar-chassis",
   "metadata": {},
   "source": [
    "# Split Text  into SMS limit(150)"
   ]
  },
  {
   "cell_type": "code",
   "execution_count": null,
   "id": "polyphonic-economy",
   "metadata": {},
   "outputs": [],
   "source": [
    "with open('cirlce.txt', 'r') as file: #<--- Choose your encoded image TEXT path\n",
    "    data = file.read()"
   ]
  },
  {
   "cell_type": "code",
   "execution_count": 61,
   "id": "tropical-tiger",
   "metadata": {},
   "outputs": [],
   "source": [
    "def chunks(s, n):\n",
    "    for start in range(0, len(s), n):\n",
    "        yield s[start:start+n]"
   ]
  },
  {
   "cell_type": "code",
   "execution_count": 62,
   "id": "greatest-impact",
   "metadata": {},
   "outputs": [
    {
     "name": "stdout",
     "output_type": "stream",
     "text": [
      "iVBORw0KGgoAAAANSUhEUgAAABgAAAAaCAYAAACtv5zzAAAKNWlDQ1BJQ0MgUHJvZmlsZQAASImVlgdUVNcWhs+90xtthqHD0HtvA0jvTXoVlWGGMpRhGKrYUAkqGFFEREAJYKgKRqVILIgoFoKAAv\n",
      "aAiIoSgwVQUXkXSTTJW++99fZa5+7v7HPWPvuUte4PAOk4i89PhEUASOKlCfxdHRihYeEM3GOAB3JAGAgBSRY7lW/v6+sFEPvT/93mRgC05G/qLuX69/H/amKc6FQ2AFAEwnxOKjsJ4T6EXdh8QRoA\n",
      "MA1h5cw0/hIzEaYJkAIRXqqDFrvMkUsctcxpX+YE+jsivAMAPJnFEsQCQCxG4owMdiwyTjyFsAGPw+Uh/BhhG3YciwMASQVhnaSk5CX2RVgDmc9HOAthZtRfcsb+LX/U1/wsVuxXXt7XF6N7cxneyT\n",
      "xuWrKA4chK5EYJWGnRnP/zoP6XJSWm/7ne0m2Qo3lBAYjXQpos8AZcwEC+yYCHUBriBUjfEbBAItKPQnosJBoNkKLSorOWzhA4JvPXCbixcWkMe+RWoxnuPLaeDsPIwMgAgKU3srzUm9tfVoPo+G+x\n",
      "HFEArNwQmP4WC7wBQPNbAETvfospzgEg3gNAVxw7XZCxHEMvfTCAiLw9GpAC8kAZaABdYATMgBWwA87AA/iAQBAG1gA2iANJSOWZYAPYAvJAAdgD9oMyUAlqQD04Bk6AdnAGXACXwXUwAIbBPTAGJs\n",
      "ELMAPmwAIEQTiIAlEhKUgBUoW0ISOICdlAzpAX5A+FQZFQLMSD0qEN0DaoACqCyqAqqAH6CToNXYCuQoPQHWgcmoJeQx9gFEyGabAcrAbrw0zYHvaEA+HVcCycAmfDufBuuBSuho/CbfAF+Do8DI/B\n",
      "L+BZFECRUHSUIkoXxUQ5onxQ4agYlAC1CZWPKkFVo5pRnahe1E3UGGoa9R6NRVPRDLQu2grthg5Cs9Ep6E3oXegydD26Dd2DvokeR8+gP2MoGFmMNsYS444JxcRiMjF5mBJMLaYVcwkzjJnEzGGxWD\n",
      "pWHWuOdcOGYeOx67G7sIewLdgu7CB2AjuLw+GkcNo4a5wPjoVLw+XhDuKO4s7jhnCTuHd4El4Bb4R3wYfjefit+BJ8I/4cfgj/FL9AECGoEiwJPgQOYR2hkHCE0Em4QZgkLBBFiepEa2IgMZ64hVhK\n",
      "bCZeIt4nviGRSEokC5IfiUvKIZWSjpOukMZJ78liZC2yIzmCnE7eTa4jd5HvkN9QKBQ1ih0lnJJG2U1poFykPKS8E6IK6Qm5C3GENguVC7UJDQm9FCYIqwrbC68RzhYuET4pfEN4WoQgoibiKMIS2S\n",
      "RSLnJaZFRkVpQqaijqI5okuku0UfSq6DMxnJiamLMYRyxXrEbsotgEFUVVpjpS2dRt1CPUS9RJGpamTnOnxdMKaMdo/bQZcTFxE/Fg8SzxcvGz4mN0FF2N7k5PpBfST9BH6B8k5CTsJaIldko0SwxJ\n",
      "zEvKSNpJRkvmS7ZIDkt+kGJIOUslSO2Vapd6II2W1pL2k86UPix9SXpahiZjJcOWyZc5IXNXFpbVkvWXXS9bI9snOysnL+cqx5c7KHdRblqeLm8nHy9fLH9OfkqBqmCjwFUoVjiv8JwhzrBnJDJKGT\n",
      "2MGUVZRTfFdMUqxX7FBSV1pSClrUotSg+UicpM5RjlYuVu5RkVBRVvlQ0qTSp3VQmqTNU41QOqvarzaupqIWrb1drVnqlLqrurZ6s3qd/XoGjYaqRoVGvc0sRqMjUTNA9pDmjBWqZacVrlWje0YW0z\n",
      "ba72Ie1BHYyOhQ5Pp1pnVJesa6+bodukO65H1/PS26rXrvdSX0U/XH+vfq/+ZwNTg0SDIwb3DMUMPQy3GnYavjbSMmIblRvdMqYYuxhvNu4wfmWibRJtctjktinV1Nt0u2m36SczczOBWbPZlLmKea\n",
      "R5hfkok8b0Ze5iXrHAWDhYbLY4Y/He0swyzfKE5e9WulYJVo1Wz1aor4hecWTFhLWSNcu6ynrMhmETafODzZitoi3Lttr2kZ2yHceu1u6pvaZ9vP1R+5cOBg4Ch1aHeUdLx42OXU4oJ1enfKd+ZzHn\n",
      "IOcy54cuSi6xLk0uM66mrutdu9wwbp5ue91G3eXc2e4N7jMe5h4bPXo8yZ4BnmWej7y0vARend6wt4f3Pu/7K1VX8la2+wAfd599Pg981X1TfH/2w/r5+pX7PfE39N/g3xtADVgb0BgwF+gQWBh4L0\n",
      "gjKD2oO1g4OCK4IXg+xCmkKGQsVD90Y+j1MOkwblhHOC48OLw2fHaV86r9qyYjTCPyIkZWq6/OWn11jfSaxDVn1wqvZa09GYmJDIlsjPzI8mFVs2aj3KMqombYjuwD7BccO04xZyraOroo+mmMdUxR\n",
      "zLNY69h9sVNxtnElcdNcR24Z91W8W3xl/HyCT0JdwmJiSGJLEj4pMuk0T4yXwOtJlk/OSh7ka/Pz+GMplin7U2YEnoLaVCh1dWpHGg35Gfela6R/lz6eYZNRnvEuMzjzZJZoFi+rb53Wup3rnma7ZP\n",
      "+4Hr2evb57g+KGLRvGN9pvrNoEbYra1L1ZeXPu5skc15z6LcQtCVt+2WqwtWjr220h2zpz5XJzcie+c/2uKU8oT5A3ut1qe+UO9A7ujv6dxjsP7vycz8m/VmBQUFLwcRd717XvDb8v/X5xd8zu/kKz\n",
      "wsN7sHt4e0b22u6tLxItyi6a2Oe9r62YUZxf/Hb/2v1XS0xKKg8QD6QfGCv1Ku04qHJwz8GPZXFlw+UO5S0VshU7K+YPcQ4NHbY73FwpV1lQ+eEH7g+3q1yr2qrVqktqsDUZNU+OBB/p/ZH5Y0OtdG\n",
      "1B7ac6Xt1YvX99T4N5Q0OjbGNhE9yU3jR1NOLowDGnYx3Nus1VLfSWguPgePrx5z9F/jRywvNE90nmyeZTqqcqWqmt+W1Q27q2mfa49rGOsI7B0x6nuzutOlt/1vu57ozimfKz4mcLzxHP5Z5bPJ99\n",
      "fraL3zV9IfbCRPfa7nsXQy/e6vHr6b/keenKZZfLF3vte89fsb5y5qrl1dPXmNfar5tdb+sz7Wv9xfSX1n6z/rYb5jc6BiwGOgdXDJ4bsh26cNPp5uVb7reuD68cHhwJGrk9GjE6dptz+9mdxDuv7m\n",
      "bcXbiXcx9zP/+ByIOSh7IPq3/V/LVlzGzs7LjTeN+jgEf3JtgTLx6nPv44mfuE8qTkqcLThmdGz85MuUwNPF/1fPIF/8XCdN5vor9VvNR4eep3u9/7ZkJnJl8JXi2+3vVG6k3dW5O33bO+sw/nkuYW\n",
      "5vPfSb2rf8983/sh5MPThcyPuI+lnzQ/dX72/Hx/MWlxkc8SsL5IARTS4JgYAF7XAUAJA4A6gGirVcsa7g+dAykYf1U8/4GXdd4XMwPgmB0AvjkAuCO+BgkpdSF5keaL9APtADSH/tr+sNQYY6PlXK\n",
      "R2RJqULC6+CQEApwnAp9HFxYX2xcVPtUixdxEdM7esHZeM1QCAidMS3elwcf2nVlvWlX/Z4z89+FrB3/y/APJl0cZAV4mtAAAAVmVYSWZNTQAqAAAACAABh2kABAAAAAEAAAAaAAAAAAADkoYABwAA\n",
      "ABIAAABEoAIABAAAAAEAAAAYoAMABAAAAAEAAAAaAAAAAEFTQ0lJAAAAU2NyZWVuc2hvdBBjYSsAAAHUaVRYdFhNTDpjb20uYWRvYmUueG1wAAAAAAA8eDp4bXBtZXRhIHhtbG5zOng9ImFkb2JlOm\n",
      "5zOm1ldGEvIiB4OnhtcHRrPSJYTVAgQ29yZSA2LjAuMCI+CiAgIDxyZGY6UkRGIHhtbG5zOnJkZj0iaHR0cDovL3d3dy53My5vcmcvMTk5OS8wMi8yMi1yZGYtc3ludGF4LW5zIyI+CiAgICAgIDxy\n",
      "ZGY6RGVzY3JpcHRpb24gcmRmOmFib3V0PSIiCiAgICAgICAgICAgIHhtbG5zOmV4aWY9Imh0dHA6Ly9ucy5hZG9iZS5jb20vZXhpZi8xLjAvIj4KICAgICAgICAgPGV4aWY6UGl4ZWxZRGltZW5zaW\n",
      "9uPjI2PC9leGlmOlBpeGVsWURpbWVuc2lvbj4KICAgICAgICAgPGV4aWY6UGl4ZWxYRGltZW5zaW9uPjI0PC9leGlmOlBpeGVsWERpbWVuc2lvbj4KICAgICAgICAgPGV4aWY6VXNlckNvbW1lbnQ+\n",
      "U2NyZWVuc2hvdDwvZXhpZjpVc2VyQ29tbWVudD4KICAgICAgPC9yZGY6RGVzY3JpcHRpb24+CiAgIDwvcmRmOlJERj4KPC94OnhtcG1ldGE+CnDf8qgAAAGoSURBVEgN7VTBSgJRFD3zJlAhHRzLiq\n",
      "w0aFVkmxZ+REH2B63qL/qLWrWNFhnUR7ioQMtoZ0FFzixcaKButM6DERmZeSM0i6ADgzPee+697757rracWRsgRIgQY8vQ/wmUHQ69RVPuEuYX5lAobCO3mkU8Pi3N7fYXXuqvKJdv0fi03BTfb80Z\n",
      "U03TUNzfxWZ+Hd1uVz79fl+ShRCIRqPyqVZquCrdYDAINt0yAYMfHh0gs7QI27Y9yfRLJpOwGjZOT848/UaPJO+Alc/MpmBZli+JVTebTVnIXnFnNI7nu2DP2ZZWq+Xp5DbwlPmtDZCrguCFdjod38\n",
      "rdQXgS3hO5KghOS6/XU/mN2ZmAXBUER9GZFpXzqJ0cZ4xH/3e/hy40QRFxzicFOeSqIKjQSCSi8huzU3jkqiAo/1gsBoooKOjLBOSqILhbHqpPSKfTKt+hnWrmygiyl2TzS5fXeH/7gGmavidh5YZh\n",
      "oP7TGu6jINCNROqYjvd3FaRSJrK5FZnEGV0G1XVdtjGRSKD2+IyL88vAwhxuU6ea0Na1k+C3fycXwIQV/P0E30sTokmQj4cmAAAAAElFTkSuQmCC\n"
     ]
    }
   ],
   "source": [
    "#This will split Long Encoded text into sub text files by 150 characters. \n",
    "\n",
    "small = 1\n",
    "for chunk in chunks(data, 150):# <-- \n",
    "    g =str(small)+'sub.txt'\n",
    "    with open(g,mode ='w') as file:      \n",
    "                 file.write(chunk) \n",
    "    small = small+1\n",
    "    #print (chunk)"
   ]
  },
  {
   "cell_type": "code",
   "execution_count": null,
   "id": "korean-belief",
   "metadata": {},
   "outputs": [],
   "source": []
  }
 ],
 "metadata": {
  "kernelspec": {
   "display_name": "Python 3",
   "language": "python",
   "name": "python3"
  },
  "language_info": {
   "codemirror_mode": {
    "name": "ipython",
    "version": 3
   },
   "file_extension": ".py",
   "mimetype": "text/x-python",
   "name": "python",
   "nbconvert_exporter": "python",
   "pygments_lexer": "ipython3",
   "version": "3.7.9"
  }
 },
 "nbformat": 4,
 "nbformat_minor": 5
}
